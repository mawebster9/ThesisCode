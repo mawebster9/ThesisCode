{
 "cells": [
  {
   "cell_type": "code",
   "execution_count": 2,
   "metadata": {},
   "outputs": [],
   "source": [
    "# Michaela Webster's Thesis Project #\n",
    "\"\"\" This project aims to try to predict the outcome of security clearance appeals cases \"\"\"\n",
    "\n",
    "#use this link for scikit learn help: https://www.ritchieng.com/pandas-scikit-learn/\n",
    "\n",
    "# To support both python 2 and python 3\n",
    "from __future__ import division, print_function, unicode_literals\n",
    "\n",
    "# imports\n",
    "import os\n",
    "import pandas as pd\n",
    "import warnings\n",
    "import matplotlib.pyplot as plt\n",
    "import plotly.graph_objs as go\n",
    "import numpy as np\n",
    "import subprocess\n",
    "import shlex"
   ]
  },
  {
   "cell_type": "code",
   "execution_count": 24,
   "metadata": {},
   "outputs": [
    {
     "name": "stdout",
     "output_type": "stream",
     "text": [
      "Drugs  Denied\n",
      "False  False     8785\n",
      "       True      9518\n",
      "True   False      867\n",
      "       True      1344\n",
      "dtype: int64\n"
     ]
    }
   ],
   "source": [
    "#open drugs_query.csv as pandas dataframe - encoding must be latin-1\n",
    "path_to_file = \"C:\\\\Users\\\\maweb\\\\Documents\\\\ThesisCode\\\\drugs_query.csv\"\n",
    "data = pd.read_csv(path_to_file, encoding='latin-1')\n",
    "\n",
    "df = data.groupby(['Drugs', 'Denied']).size()\n",
    "#print bar graph of drugs yes/no vs denied yes/no\n",
    "print (df)"
   ]
  },
  {
   "cell_type": "code",
   "execution_count": 25,
   "metadata": {},
   "outputs": [
    {
     "data": {
      "text/plain": [
       "<matplotlib.axes._subplots.AxesSubplot at 0x119b1ef0>"
      ]
     },
     "execution_count": 25,
     "metadata": {},
     "output_type": "execute_result"
    },
    {
     "data": {
      "image/png": "[encoded data removed]",
      "text/plain": [
       "<Figure size 432x288 with 1 Axes>"
      ]
     },
     "metadata": {
      "needs_background": "light"
     },
     "output_type": "display_data"
    }
   ],
   "source": [
    "#print bar graph to show drugs/denied\n",
    "#cannot do this through cmd\n",
    "df.plot.bar()"
   ]
  },
  {
   "cell_type": "code",
   "execution_count": 47,
   "metadata": {},
   "outputs": [
    {
     "name": "stdout",
     "output_type": "stream",
     "text": [
      "marijuana:  1431\n",
      "meth:  44\n",
      "cocaine:  125\n",
      "heroin:  8\n"
     ]
    },
    {
     "data": {
      "image/png": "[encoded data removed]",
      "text/plain": [
       "<Figure size 432x288 with 1 Axes>"
      ]
     },
     "metadata": {
      "needs_background": "light"
     },
     "output_type": "display_data"
    }
   ],
   "source": [
    "#print out the count for drug types\n",
    "data.Judgment.head(3)\n",
    "#sort through the judgment field\n",
    "marijuana = 0\n",
    "cocaine = 0\n",
    "meth = 0\n",
    "heroin = 0\n",
    "\n",
    "#go through each row \n",
    "for i in data['Judgment']:\n",
    "        if 'marijuana' in i :\n",
    "            marijuana = marijuana+1\n",
    "        elif 'meth' in i:\n",
    "            meth = meth+1\n",
    "        elif 'cocaine' in i:\n",
    "            cocaine = cocaine+1\n",
    "        elif 'heroin' in i:\n",
    "            heroin = heroin+1\n",
    "            \n",
    "print('marijuana: ', marijuana)\n",
    "print('meth: ', meth)\n",
    "print('cocaine: ', cocaine)\n",
    "print('heroin: ', heroin)\n",
    "\n",
    "x=['Marijuana', 'Meth', 'Cocaine', 'Heroin']\n",
    "y=[marijuana,meth,cocaine,heroin]\n",
    "\n",
    "plt.bar(x, y, align='center', alpha=0.5)\n",
    "plt.xticks(x)\n",
    "plt.xlabel('Types of Drugs')\n",
    "plt.ylabel('Number of Instances')\n",
    "plt.title('Drug types and usage')\n",
    " \n",
    "plt.show()"
   ]
  },
  {
   "cell_type": "code",
   "execution_count": 32,
   "metadata": {},
   "outputs": [],
   "source": [
    "# set the featured columns for X (Drugs)\n",
    "feature_cols = ['Drugs']\n",
    "# you want all rows, and the feature_cols' columns\n",
    "X = data.loc[:, feature_cols]\n",
    "# now we want to create our response vector\n",
    "y = data.Denied"
   ]
  },
  {
   "cell_type": "code",
   "execution_count": 33,
   "metadata": {},
   "outputs": [
    {
     "data": {
      "text/plain": [
       "LogisticRegression(C=1.0, class_weight=None, dual=False, fit_intercept=True,\n",
       "          intercept_scaling=1, max_iter=110, multi_class='warn',\n",
       "          n_jobs=None, penalty='l1', random_state=None, solver='liblinear',\n",
       "          tol=0.0001, verbose=0, warm_start=False)"
      ]
     },
     "execution_count": 33,
     "metadata": {},
     "output_type": "execute_result"
    }
   ],
   "source": [
    "# START DOING MACHINE LEARNING STUFF\n",
    "# 1. import\n",
    "from sklearn.linear_model import LogisticRegression\n",
    "# 2. instantiate model\n",
    "logreg = LogisticRegression(penalty='l1',dual=False,max_iter=110, solver='liblinear')\n",
    "# 3. fit \n",
    "logreg.fit(X, y)"
   ]
  },
  {
   "cell_type": "code",
   "execution_count": 34,
   "metadata": {},
   "outputs": [],
   "source": [
    "# FOR TEST DATA\n",
    "#open drugs_test.csv as pandas dataframe\n",
    "path_to_file = \"C:\\\\Users\\\\maweb\\\\Documents\\\\ThesisCode\\\\drugs_test.csv\"\n",
    "data2 = pd.read_csv(path_to_file, encoding='latin-1')\n",
    "X_new = data.loc[:, feature_cols]\n",
    "new_pred_class = logreg.predict(X_new)"
   ]
  },
  {
   "cell_type": "code",
   "execution_count": 35,
   "metadata": {},
   "outputs": [],
   "source": [
    "#SAVE DATAFRAME TO CSV\n",
    "# pandas would align them next to each other\n",
    "# to ensure the first column is Drugs, use .set_index\n",
    "#drug_data = pd.DataFrame({'Drugs':test.Drugs, 'Denied':new_pred_class}).set_index('Drugs')\n",
    "#drug_data.to_csv('drug_df.csv')"
   ]
  },
  {
   "cell_type": "code",
   "execution_count": null,
   "metadata": {},
   "outputs": [],
   "source": []
  }
 ],
 "metadata": {
  "kernelspec": {
   "display_name": "Python 3",
   "language": "python",
   "name": "python3"
  },
  "language_info": {
   "codemirror_mode": {
    "name": "ipython",
    "version": 3
   },
   "file_extension": ".py",
   "mimetype": "text/x-python",
   "name": "python",
   "nbconvert_exporter": "python",
   "pygments_lexer": "ipython3",
   "version": "3.7.0"
  }
 },
 "nbformat": 4,
 "nbformat_minor": 2
}
