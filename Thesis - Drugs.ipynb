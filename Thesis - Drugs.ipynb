{
 "cells": [
  {
   "cell_type": "code",
   "execution_count": 222,
   "metadata": {},
   "outputs": [],
   "source": [
    "# Michaela Webster's Thesis Project #\n",
    "\"\"\" This project aims to try to predict the outcome of security clearance appeals cases \"\"\"\n",
    "\n",
    "#use this link for scikit learn help: https://www.ritchieng.com/pandas-scikit-learn/\n",
    "\n",
    "# To support both python 2 and python 3\n",
    "from __future__ import division, print_function, unicode_literals\n",
    "\n",
    "# imports\n",
    "import os\n",
    "import pandas as pd\n",
    "import warnings\n",
    "import matplotlib.pyplot as plt\n",
    "import numpy as np\n",
    "import subprocess\n",
    "import shlex\n",
    "import sklearn\n",
    "from sklearn import metrics as skmet"
   ]
  },
  {
   "cell_type": "code",
   "execution_count": 217,
   "metadata": {},
   "outputs": [
    {
     "name": "stdout",
     "output_type": "stream",
     "text": [
      "Drugs  Denied\n",
      "False  False     8785\n",
      "       True      9518\n",
      "True   False      867\n",
      "       True      1344\n",
      "dtype: int64\n"
     ]
    }
   ],
   "source": [
    "#open drugs_query.csv as pandas dataframe - encoding must be latin-1\n",
    "path_to_file = \"C:\\\\Users\\\\maweb\\\\Documents\\\\ThesisCode\\\\drugs_query.csv\"\n",
    "data = pd.read_csv(path_to_file, encoding='latin-1')\n",
    "\n",
    "df = data.groupby(['Drugs', 'Denied']).size()\n",
    "#print bar graph of drugs yes/no vs denied yes/no\n",
    "print (df)"
   ]
  },
  {
   "cell_type": "code",
   "execution_count": 218,
   "metadata": {},
   "outputs": [
    {
     "data": {
      "text/plain": [
       "<matplotlib.axes._subplots.AxesSubplot at 0x142b6b70>"
      ]
     },
     "execution_count": 218,
     "metadata": {},
     "output_type": "execute_result"
    },
    {
     "data": {
      "image/png": "[encoded data removed]",
      "text/plain": [
       "<Figure size 432x288 with 1 Axes>"
      ]
     },
     "metadata": {
      "needs_background": "light"
     },
     "output_type": "display_data"
    }
   ],
   "source": [
    "#print bar graph to show drugs/denied\n",
    "#cannot do this through cmd\n",
    "df.plot.bar()"
   ]
  },
  {
   "cell_type": "code",
   "execution_count": 219,
   "metadata": {},
   "outputs": [
    {
     "name": "stdout",
     "output_type": "stream",
     "text": [
      "*** DRUG COUNTS ***\n",
      "marijuana:  1431\n",
      "meth:  44\n",
      "cocaine:  125\n",
      "heroin:  8\n",
      "painkillers:  6\n",
      "LSD:  1\n",
      "Shrooms:  2\n",
      "\n",
      "*** Drug Usage ***\n",
      "drug abuse:  124\n",
      "prescription:  33\n"
     ]
    },
    {
     "data": {
      "image/png": "[encoded data removed]",
      "text/plain": [
       "<Figure size 432x288 with 1 Axes>"
      ]
     },
     "metadata": {
      "needs_background": "light"
     },
     "output_type": "display_data"
    }
   ],
   "source": [
    "#print out the count for drug types\n",
    "data.Judgment.head(3)\n",
    "#sort through the judgment field\n",
    "marijuana = 0\n",
    "cocaine = 0\n",
    "meth = 0\n",
    "heroin = 0\n",
    "painkiller = 0\n",
    "lsd = 0\n",
    "shrooms = 0\n",
    "drug_abuse = 0\n",
    "prescrip = 0\n",
    "\n",
    "#go through each row \n",
    "for i in data['Judgment']:\n",
    "        if 'marijuana' in i :\n",
    "            marijuana = marijuana+1\n",
    "        elif 'meth' in i:\n",
    "            meth = meth+1\n",
    "        elif 'cocaine' in i:\n",
    "            cocaine = cocaine+1\n",
    "        elif 'heroin' in i:\n",
    "            heroin = heroin+1\n",
    "        elif 'painkiller' in i:\n",
    "            painkiller = painkiller+1\n",
    "        elif 'LSD' in i:\n",
    "            lsd = lsd+1\n",
    "        elif 'psilocybin' in i:\n",
    "            shrooms = shrooms+1\n",
    "        elif 'drug abuse' in i:\n",
    "            drug_abuse = drug_abuse+1\n",
    "        elif 'prescription' in i:\n",
    "            prescrip = prescrip+1\n",
    "      \n",
    "print('*** DRUG COUNTS ***')\n",
    "print('marijuana: ', marijuana)\n",
    "print('meth: ', meth)\n",
    "print('cocaine: ', cocaine)\n",
    "print('heroin: ', heroin)\n",
    "print('painkillers: ', painkiller)\n",
    "print('LSD: ', lsd)\n",
    "print('Shrooms: ', shrooms)\n",
    "\n",
    "print('\\n*** Drug Usage ***')\n",
    "print('drug abuse: ', drug_abuse)\n",
    "print('prescription: ', prescrip)\n",
    "\n",
    "x=['Marijuana', 'Meth', 'Cocaine', 'Heroin', 'Painkillers', 'LSD', 'Psilocybin']\n",
    "y=[marijuana,meth,cocaine,heroin,painkiller,lsd,shrooms]\n",
    "\n",
    "plt.bar(x, y, align='center', alpha=0.5)\n",
    "plt.xticks(x)\n",
    "plt.xlabel('Types of Drugs')\n",
    "plt.ylabel('Number of Instances')\n",
    "plt.title('Drug types and usage')\n",
    " \n",
    "plt.show()"
   ]
  },
  {
   "cell_type": "code",
   "execution_count": 220,
   "metadata": {},
   "outputs": [],
   "source": [
    "# set the featured columns for X (Drugs)\n",
    "feature_cols = ['Drugs']\n",
    "# you want all rows, and the feature_cols' columns\n",
    "X = data.loc[:, feature_cols]\n",
    "# now we want to create our response vector\n",
    "y = data.Denied"
   ]
  },
  {
   "cell_type": "code",
   "execution_count": 221,
   "metadata": {},
   "outputs": [
    {
     "data": {
      "text/plain": [
       "LogisticRegression(C=1.0, class_weight=None, dual=False, fit_intercept=True,\n",
       "          intercept_scaling=1, max_iter=110, multi_class='warn',\n",
       "          n_jobs=None, penalty='l1', random_state=None, solver='liblinear',\n",
       "          tol=0.0001, verbose=0, warm_start=False)"
      ]
     },
     "execution_count": 221,
     "metadata": {},
     "output_type": "execute_result"
    }
   ],
   "source": [
    "# START DOING MACHINE LEARNING STUFF\n",
    "# 1. import\n",
    "from sklearn.linear_model import LogisticRegression\n",
    "# 2. instantiate model\n",
    "logreg = LogisticRegression(penalty='l1',dual=False,max_iter=110, solver='liblinear')\n",
    "# 3. fit \n",
    "logreg.fit(X, y)"
   ]
  },
  {
   "cell_type": "code",
   "execution_count": 224,
   "metadata": {},
   "outputs": [],
   "source": [
    "# FOR TEST DATA\n",
    "#open drugs_test.csv as pandas dataframe\n",
    "path_to_file = \"C:\\\\Users\\\\maweb\\\\Documents\\\\ThesisCode\\\\drugs_test.csv\"\n",
    "data2 = pd.read_csv(path_to_file, encoding='latin-1')\n",
    "X_new = data.loc[:, feature_cols]\n",
    "new_pred_class = logreg.predict(X_new)"
   ]
  },
  {
   "cell_type": "code",
   "execution_count": 225,
   "metadata": {},
   "outputs": [
    {
     "data": {
      "text/plain": [
       "array([ True,  True,  True, ...,  True,  True,  True])"
      ]
     },
     "execution_count": 225,
     "metadata": {},
     "output_type": "execute_result"
    }
   ],
   "source": [
    "new_pred_class"
   ]
  },
  {
   "cell_type": "code",
   "execution_count": 226,
   "metadata": {},
   "outputs": [],
   "source": [
    "drugs_accuracy = skmet.accuracy_score(new_pred_class, y)"
   ]
  },
  {
   "cell_type": "code",
   "execution_count": 227,
   "metadata": {},
   "outputs": [
    {
     "name": "stdout",
     "output_type": "stream",
     "text": [
      "Accuracy Score for Drugs model:  0.5294920542068831\n"
     ]
    }
   ],
   "source": [
    "print('Accuracy Score for Drugs model: ',drugs_accuracy)"
   ]
  },
  {
   "cell_type": "code",
   "execution_count": null,
   "metadata": {},
   "outputs": [],
   "source": []
  }
 ],
 "metadata": {
  "kernelspec": {
   "display_name": "Python 3",
   "language": "python",
   "name": "python3"
  },
  "language_info": {
   "codemirror_mode": {
    "name": "ipython",
    "version": 3
   },
   "file_extension": ".py",
   "mimetype": "text/x-python",
   "name": "python",
   "nbconvert_exporter": "python",
   "pygments_lexer": "ipython3",
   "version": "3.7.0"
  }
 },
 "nbformat": 4,
 "nbformat_minor": 2
}
