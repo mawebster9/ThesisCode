{
 "cells": [
  {
   "cell_type": "code",
   "execution_count": 50,
   "metadata": {},
   "outputs": [],
   "source": [
    "# Michaela Webster's Thesis Project #\n",
    "\"\"\" This project aims to try to predict the outcome of security clearance appeals cases \"\"\"\n",
    "\n",
    "#use this link for scikit learn help: https://www.ritchieng.com/pandas-scikit-learn/\n",
    "\n",
    "# To support both python 2 and python 3\n",
    "from __future__ import division, print_function, unicode_literals\n",
    "\n",
    "# imports\n",
    "import os\n",
    "import pandas as pd\n",
    "import warnings\n",
    "import matplotlib.pyplot as plt\n",
    "import numpy as np\n",
    "import subprocess\n",
    "import shlex\n",
    "import sklearn\n",
    "from sklearn import metrics as skmet"
   ]
  },
  {
   "cell_type": "code",
   "execution_count": 51,
   "metadata": {},
   "outputs": [
    {
     "name": "stdout",
     "output_type": "stream",
     "text": [
      "Alcohol  Denied\n",
      "False    False     8885\n",
      "         True      9764\n",
      "True     False      767\n",
      "         True      1098\n",
      "dtype: int64\n"
     ]
    }
   ],
   "source": [
    "#open alcohol_query.csv as pandas dataframe - encoding must be latin-1\n",
    "path_to_file = \"C:\\\\Users\\\\maweb\\\\Documents\\\\ThesisCode\\\\alcohol_query.csv\"\n",
    "data = pd.read_csv(path_to_file, encoding='latin-1')\n",
    "\n",
    "df = data.groupby(['Alcohol', 'Denied']).size()\n",
    "#print bar graph of alcohol yes/no vs denied yes/no\n",
    "print (df)"
   ]
  },
  {
   "cell_type": "code",
   "execution_count": 52,
   "metadata": {},
   "outputs": [
    {
     "data": {
      "text/plain": [
       "<matplotlib.axes._subplots.AxesSubplot at 0x108701d0>"
      ]
     },
     "execution_count": 52,
     "metadata": {},
     "output_type": "execute_result"
    },
    {
     "data": {
      "image/png": "[encoded data removed]",
      "text/plain": [
       "<Figure size 432x288 with 1 Axes>"
      ]
     },
     "metadata": {
      "needs_background": "light"
     },
     "output_type": "display_data"
    }
   ],
   "source": [
    "#print bar graph to show alcohol/denied\n",
    "#cannot do this through cmd\n",
    "df.plot.bar()"
   ]
  },
  {
   "cell_type": "code",
   "execution_count": 53,
   "metadata": {},
   "outputs": [
    {
     "name": "stdout",
     "output_type": "stream",
     "text": [
      "alcohol abuse:  328\n",
      "alcohol dependence:  65\n",
      "rehab:  372\n"
     ]
    },
    {
     "data": {
      "image/png": "[encoded data removed]",
      "text/plain": [
       "<Figure size 432x288 with 1 Axes>"
      ]
     },
     "metadata": {
      "needs_background": "light"
     },
     "output_type": "display_data"
    }
   ],
   "source": [
    "#print out the count for alcohol usage\n",
    "data.Judgment.head(3)\n",
    "#sort through the judgment field\n",
    "alcohol_abuse = 0\n",
    "alcohol_dependence = 0\n",
    "rehab = 0\n",
    "\n",
    "#go through each row \n",
    "for i in data['Judgment']:\n",
    "        if 'alcohol abuse' in i:\n",
    "            alcohol_abuse = alcohol_abuse+1\n",
    "        elif 'alcohol dependence' in i:\n",
    "            alcohol_dependence = alcohol_dependence+1\n",
    "        elif 'rehab' in i:\n",
    "            rehab = rehab+1\n",
    "\n",
    "print('alcohol abuse: ', alcohol_abuse)\n",
    "print('alcohol dependence: ', alcohol_dependence)\n",
    "print('rehab: ', rehab)\n",
    "\n",
    "x=['Abuse', 'Dependence', 'Rehab']\n",
    "y=[alcohol_abuse, alcohol_dependence, rehab]\n",
    "\n",
    "plt.bar(x, y, align='center', alpha=0.5)\n",
    "plt.xticks(x)\n",
    "plt.xlabel('Alcohol Use')\n",
    "plt.ylabel('Number of Instances')\n",
    "plt.title('Alcohol Usage')\n",
    " \n",
    "plt.show()"
   ]
  },
  {
   "cell_type": "code",
   "execution_count": 54,
   "metadata": {},
   "outputs": [],
   "source": [
    "# set the featured columns for X (Alcohol)\n",
    "feature_cols = ['Alcohol']\n",
    "# you want all rows, and the feature_cols' columns\n",
    "X = data.loc[:, feature_cols]\n",
    "# now we want to create our response vector\n",
    "y = data.Denied"
   ]
  },
  {
   "cell_type": "code",
   "execution_count": 55,
   "metadata": {},
   "outputs": [
    {
     "data": {
      "text/plain": [
       "LogisticRegression(C=1.0, class_weight=None, dual=False, fit_intercept=True,\n",
       "          intercept_scaling=1, max_iter=110, multi_class='warn',\n",
       "          n_jobs=None, penalty='l1', random_state=None, solver='liblinear',\n",
       "          tol=0.0001, verbose=0, warm_start=False)"
      ]
     },
     "execution_count": 55,
     "metadata": {},
     "output_type": "execute_result"
    }
   ],
   "source": [
    "# START DOING MACHINE LEARNING STUFF\n",
    "# 1. import\n",
    "from sklearn.linear_model import LogisticRegression\n",
    "# 2. instantiate model\n",
    "logreg = LogisticRegression(penalty='l1',dual=False,max_iter=110, solver='liblinear')\n",
    "# 3. fit \n",
    "logreg.fit(X, y)"
   ]
  },
  {
   "cell_type": "code",
   "execution_count": 56,
   "metadata": {},
   "outputs": [],
   "source": [
    "# FOR TEST DATA\n",
    "#open alcohol_test.csv as pandas dataframe\n",
    "path_to_file = \"C:\\\\Users\\\\maweb\\\\Documents\\\\ThesisCode\\\\alcohol_test.csv\"\n",
    "data2 = pd.read_csv(path_to_file, encoding='latin-1')\n",
    "X_new = data.loc[:, feature_cols]\n",
    "new_pred_class = logreg.predict(X_new)"
   ]
  },
  {
   "cell_type": "code",
   "execution_count": 57,
   "metadata": {},
   "outputs": [
    {
     "data": {
      "text/plain": [
       "array([ True,  True,  True, ...,  True,  True,  True])"
      ]
     },
     "execution_count": 57,
     "metadata": {},
     "output_type": "execute_result"
    }
   ],
   "source": [
    "new_pred_class"
   ]
  },
  {
   "cell_type": "code",
   "execution_count": 58,
   "metadata": {},
   "outputs": [],
   "source": [
    "alcohol_accuracy = skmet.accuracy_score(new_pred_class, y)"
   ]
  },
  {
   "cell_type": "code",
   "execution_count": 59,
   "metadata": {},
   "outputs": [
    {
     "name": "stdout",
     "output_type": "stream",
     "text": [
      "Accuracy Score for Alcohol model:  0.5294920542068831\n"
     ]
    }
   ],
   "source": [
    "print('Accuracy Score for Alcohol model: ',alcohol_accuracy)"
   ]
  },
  {
   "cell_type": "code",
   "execution_count": null,
   "metadata": {},
   "outputs": [],
   "source": []
  }
 ],
 "metadata": {
  "kernelspec": {
   "display_name": "Python 3",
   "language": "python",
   "name": "python3"
  },
  "language_info": {
   "codemirror_mode": {
    "name": "ipython",
    "version": 3
   },
   "file_extension": ".py",
   "mimetype": "text/x-python",
   "name": "python",
   "nbconvert_exporter": "python",
   "pygments_lexer": "ipython3",
   "version": "3.7.0"
  }
 },
 "nbformat": 4,
 "nbformat_minor": 2
}
