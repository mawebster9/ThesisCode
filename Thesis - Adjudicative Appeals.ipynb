{
 "cells": [
  {
   "cell_type": "markdown",
   "metadata": {},
   "source": [
    "# Adjudicative Appeals Notebook"
   ]
  },
  {
   "cell_type": "markdown",
   "metadata": {},
   "source": [
    "### Imports"
   ]
  },
  {
   "cell_type": "code",
   "execution_count": 1,
   "metadata": {},
   "outputs": [],
   "source": [
    "# Michaela Webster's Thesis Project #\n",
    "\"\"\" This project aims to try to predict the outcome of security clearance appeals cases \"\"\"\n",
    "\n",
    "#use this link for scikit learn help: https://www.ritchieng.com/pandas-scikit-learn/\n",
    "\n",
    "# To support both python 2 and python 3\n",
    "from __future__ import division, print_function, unicode_literals\n",
    "\n",
    "# imports\n",
    "import os\n",
    "import pandas as pd\n",
    "import warnings\n",
    "import matplotlib.pyplot as plt\n",
    "import numpy as np\n",
    "import subprocess\n",
    "import shlex\n",
    "import sklearn\n",
    "from sklearn import metrics as skmet"
   ]
  },
  {
   "cell_type": "markdown",
   "metadata": {},
   "source": [
    "### Getting the Training Data"
   ]
  },
  {
   "cell_type": "code",
   "execution_count": 20,
   "metadata": {},
   "outputs": [
    {
     "name": "stdout",
     "output_type": "stream",
     "text": [
      "Age   Denied\n",
      "19.0  True       1\n",
      "20.0  False      5\n",
      "      True       3\n",
      "21.0  False      3\n",
      "      True       5\n",
      "22.0  False      5\n",
      "      True      10\n",
      "23.0  False     19\n",
      "      True      14\n",
      "24.0  False     19\n",
      "      True      31\n",
      "25.0  False     25\n",
      "      True      42\n",
      "26.0  False     23\n",
      "      True      46\n",
      "27.0  False     33\n",
      "      True      46\n",
      "28.0  False     25\n",
      "      True      59\n",
      "29.0  False     26\n",
      "      True      64\n",
      "30.0  False     33\n",
      "      True      58\n",
      "31.0  False     43\n",
      "      True      57\n",
      "32.0  False     36\n",
      "      True      63\n",
      "33.0  False     40\n",
      "      True      61\n",
      "34.0  False     43\n",
      "                ..\n",
      "59.0  True      25\n",
      "60.0  False     18\n",
      "      True      25\n",
      "61.0  False     18\n",
      "      True      27\n",
      "62.0  False     11\n",
      "      True      20\n",
      "63.0  False     12\n",
      "      True      19\n",
      "64.0  False      5\n",
      "      True      10\n",
      "65.0  False      9\n",
      "      True       8\n",
      "66.0  False      9\n",
      "      True       5\n",
      "67.0  False      3\n",
      "      True       4\n",
      "68.0  False      7\n",
      "      True       7\n",
      "69.0  False      3\n",
      "      True       3\n",
      "70.0  False      2\n",
      "      True       1\n",
      "71.0  False      1\n",
      "      True       3\n",
      "72.0  True       1\n",
      "73.0  False      1\n",
      "74.0  False      4\n",
      "      True       1\n",
      "82.0  False      1\n",
      "Length: 110, dtype: int64\n"
     ]
    }
   ],
   "source": [
    "#open appeals_query.csv as pandas dataframe - encoding must be latin-1\n",
    "path_to_file = \"C:\\\\Users\\\\maweb\\\\Documents\\\\ThesisCode\\\\appeals_query.csv\"\n",
    "data = pd.read_csv(path_to_file, encoding='latin-1')\n",
    "\n",
    "df = data.groupby(['Age','Denied']).size()\n",
    "#print bar graph of ave vs denied yes/no\n",
    "print (df)"
   ]
  },
  {
   "cell_type": "code",
   "execution_count": 21,
   "metadata": {},
   "outputs": [
    {
     "data": {
      "text/plain": [
       "<matplotlib.axes._subplots.AxesSubplot at 0x128fe770>"
      ]
     },
     "execution_count": 21,
     "metadata": {},
     "output_type": "execute_result"
    },
    {
     "data": {
      "image/png": "[encoded data removed]",
      "text/plain": [
       "<Figure size 432x288 with 1 Axes>"
      ]
     },
     "metadata": {
      "needs_background": "light"
     },
     "output_type": "display_data"
    }
   ],
   "source": [
    "#print bar graph to show denied\n",
    "#cannot do this through cmd\n",
    "df.plot.bar()"
   ]
  },
  {
   "cell_type": "markdown",
   "metadata": {},
   "source": [
    "### Prime Data for Machine Learning"
   ]
  },
  {
   "cell_type": "code",
   "execution_count": 23,
   "metadata": {},
   "outputs": [],
   "source": [
    "# set the featured columns for X (all true/false fields)\n",
    "feature_cols = ['Smith','Female','Position_Eligibility','No_Falsification', 'Rebut_Falsification','Falsification(s)','Domestic_Violence', 'Traumatic_Life_Event', 'Child_Sexual_Abuse', 'Child_Pornography', 'Prostitutes','Fmr_Military_LawE','Adverse_Affirmed','Granted','Failed_to_Mitigate', 'Favorable_Affirmed','Success_to_Mitigate','Adverse_Reversed','Revoked_Fav_Reversed','Adverse_Remanded','Favorable_Remanded','Remanded_wInstructions','Recommend_Waiver','Decision_Other','Decision_Unknown','Security_Violations','Foreign_Influence','Foreign_Preference','Personal_Conduct','Emotional_Mental','Criminal_Conduct','Handling_PI','Outside_Activities','Use_InfoSys','Deception','CAC','Unknown_Guideline','Domestic_Violence', 'Traumatic_Life_Event', 'Child_Sexual_Abuse', 'Child_Pornography', 'Prostitutes', 'Sexual_Behavior']\n",
    "# you want all rows, and the feature_cols' columns\n",
    "X = data.loc[:, feature_cols]\n",
    "# now we want to create our response vector\n",
    "y = data.Denied"
   ]
  },
  {
   "cell_type": "markdown",
   "metadata": {},
   "source": [
    "### Feed the Data and Outcome into LogisticRegression Model"
   ]
  },
  {
   "cell_type": "code",
   "execution_count": 24,
   "metadata": {},
   "outputs": [
    {
     "data": {
      "text/plain": [
       "LogisticRegression(C=1.0, class_weight=None, dual=False, fit_intercept=True,\n",
       "          intercept_scaling=1, max_iter=110, multi_class='warn',\n",
       "          n_jobs=None, penalty='l1', random_state=None, solver='liblinear',\n",
       "          tol=0.0001, verbose=0, warm_start=False)"
      ]
     },
     "execution_count": 24,
     "metadata": {},
     "output_type": "execute_result"
    }
   ],
   "source": [
    "# START DOING MACHINE LEARNING STUFF\n",
    "# 1. import\n",
    "from sklearn.linear_model import LogisticRegression\n",
    "# 2. instantiate model\n",
    "logreg = LogisticRegression(penalty='l1',dual=False,max_iter=110, solver='liblinear')\n",
    "# 3. fit \n",
    "logreg.fit(X, y)"
   ]
  },
  {
   "cell_type": "code",
   "execution_count": 25,
   "metadata": {},
   "outputs": [],
   "source": [
    "# FOR TEST DATA\n",
    "#open sexual_test.csv as pandas dataframe\n",
    "path_to_file = \"C:\\\\Users\\\\maweb\\\\Documents\\\\ThesisCode\\\\sexual_test.csv\"\n",
    "data2 = pd.read_csv(path_to_file, encoding='latin-1')\n",
    "X_new = data.loc[:, feature_cols]\n",
    "new_pred_class = logreg.predict(X_new)"
   ]
  },
  {
   "cell_type": "code",
   "execution_count": 26,
   "metadata": {},
   "outputs": [
    {
     "data": {
      "text/plain": [
       "array([ True,  True,  True, ..., False, False,  True])"
      ]
     },
     "execution_count": 26,
     "metadata": {},
     "output_type": "execute_result"
    }
   ],
   "source": [
    "new_pred_class"
   ]
  },
  {
   "cell_type": "markdown",
   "metadata": {},
   "source": [
    "### Find Model Accuracy"
   ]
  },
  {
   "cell_type": "code",
   "execution_count": 31,
   "metadata": {},
   "outputs": [],
   "source": [
    "appeals_accuracy = skmet.accuracy_score(new_pred_class, y)\n",
    "print('Accuracy Score for Adjudicative Appeals model: ',appeals_accuracy)\n",
    "\n",
    "appeals_f1 = skmet.f1_score(y,new_pred_class)\n",
    "print('F1 score for Adjudicative Appeals Model: ',appeals_f1)"
   ]
  },
  {
   "cell_type": "code",
   "execution_count": 32,
   "metadata": {},
   "outputs": [
    {
     "name": "stdout",
     "output_type": "stream",
     "text": [
      "Accuracy Score for Adjudicative Appeals model:  0.9950765330993467\n"
     ]
    }
   ],
   "source": []
  },
  {
   "cell_type": "code",
   "execution_count": 33,
   "metadata": {},
   "outputs": [
    {
     "name": "stdout",
     "output_type": "stream",
     "text": [
      "F1 score for Adjudicative Appeals Model:  0.9953329328589251\n"
     ]
    }
   ],
   "source": []
  },
  {
   "cell_type": "markdown",
   "metadata": {},
   "source": [
    "### Future Work"
   ]
  },
  {
   "cell_type": "markdown",
   "metadata": {},
   "source": [
    "1. look into other models"
   ]
  },
  {
   "cell_type": "code",
   "execution_count": null,
   "metadata": {},
   "outputs": [],
   "source": []
  }
 ],
 "metadata": {
  "kernelspec": {
   "display_name": "Python 3",
   "language": "python",
   "name": "python3"
  },
  "language_info": {
   "codemirror_mode": {
    "name": "ipython",
    "version": 3
   },
   "file_extension": ".py",
   "mimetype": "text/x-python",
   "name": "python",
   "nbconvert_exporter": "python",
   "pygments_lexer": "ipython3",
   "version": "3.7.0"
  }
 },
 "nbformat": 4,
 "nbformat_minor": 2
}
