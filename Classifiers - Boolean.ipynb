{
 "cells": [
  {
   "cell_type": "markdown",
   "metadata": {},
   "source": [
    "# Classifying Boolean Values\n",
    "Michaela Webster - mawebster9"
   ]
  },
  {
   "cell_type": "markdown",
   "metadata": {},
   "source": [
    "Before we begin anything, we need to import all of the libraries/functions that we will be using throughout our notebook. Pandas is a crucial part of this process since it houses our data. Another important feature of this process is the scikit-learn library - this library is our one-stop-shop for our machine learning needs. "
   ]
  },
  {
   "cell_type": "code",
   "execution_count": 90,
   "metadata": {},
   "outputs": [],
   "source": [
    "#our data structure\n",
    "import pandas as pd\n",
    "\n",
    "#bag of words vectorizer - take inverse frequency of words to assign weights\n",
    "from sklearn.feature_extraction.text import TfidfVectorizer\n",
    "\n",
    "#split data into training/test data, validate our models, and specify number of folds for training/test data\n",
    "from sklearn.model_selection import train_test_split, cross_val_score, StratifiedKFold \n",
    "\n",
    "# our 5 classification models\n",
    "from sklearn.naive_bayes import GaussianNB\n",
    "from sklearn.ensemble import RandomForestClassifier\n",
    "from sklearn.linear_model import LogisticRegression\n",
    "from sklearn.tree import DecisionTreeClassifier\n",
    "from sklearn.neighbors import KNeighborsClassifier"
   ]
  },
  {
   "cell_type": "markdown",
   "metadata": {},
   "source": [
    "## 1. Import Data and Set X & y"
   ]
  },
  {
   "cell_type": "markdown",
   "metadata": {},
   "source": [
    "For this example, we will focus on all of the boolean fields. The boolean fields are all of the true/false values and can account for a lot of different attributes that contain a lot of useful data surrounding a case. Our goal is to see if the true/false fields can be used to determine whether a case should be denied or granted with high accuracy. For this, our X is all of the true/false fields and its associated label, or y, is the denied field."
   ]
  },
  {
   "cell_type": "code",
   "execution_count": 91,
   "metadata": {},
   "outputs": [],
   "source": [
    "#connect to CSV file that contains our data\n",
    "path_to_file = \"https://raw.githubusercontent.com/mawebster9/ThesisCode/master/appeals_query.csv\"\n",
    "\n",
    "#open, read, and store our data into a pandas dataframe\n",
    "appeals_data = pd.read_csv(path_to_file, encoding='latin-1')"
   ]
  },
  {
   "cell_type": "code",
   "execution_count": 92,
   "metadata": {},
   "outputs": [],
   "source": [
    "#assign our attributes to X (all boolean fields) and y\n",
    "X = appeals_data.select_dtypes('bool')\n",
    "y = X['Denied']"
   ]
  },
  {
   "cell_type": "code",
   "execution_count": 93,
   "metadata": {},
   "outputs": [],
   "source": [
    "#remove the 'Denied' field from the X data frame\n",
    "X = X.drop('Denied',axis=1)"
   ]
  },
  {
   "cell_type": "code",
   "execution_count": 94,
   "metadata": {},
   "outputs": [
    {
     "data": {
      "text/plain": [
       "Smith                     False\n",
       "Female                    False\n",
       "Position_Eligibility      False\n",
       "No_Falsification          False\n",
       "Rebut_Falsification       False\n",
       "Falsification(s)           True\n",
       "Domestic_Violence         False\n",
       "Previous_Clearance        False\n",
       "Traumatic_Life_Event      False\n",
       "Caused_Death              False\n",
       "Child_Sexual_Abuse        False\n",
       "Child_Pornography         False\n",
       "Prostitutes               False\n",
       "Fmr_Military_LawE         False\n",
       "Adverse_Affirmed          False\n",
       "Favorable_Affirmed        False\n",
       "Granted                   False\n",
       "Failed_to_Mitigate        False\n",
       "Success_to_Mitigate       False\n",
       "Adverse_Reversed          False\n",
       "Revoked_Fav_Reversed      False\n",
       "Adverse_Remanded          False\n",
       "Favorable_Remanded        False\n",
       "Remanded_wInstructions    False\n",
       "Recommend_Waiver          False\n",
       "Decision_Other            False\n",
       "Decision_Unknown          False\n",
       "Security_Violations       False\n",
       "Foreign_Influence         False\n",
       "Foreign_Preference        False\n",
       "Sexual_Behavior           False\n",
       "Personal_Conduct           True\n",
       "Financial                 False\n",
       "Alcohol                   False\n",
       "Drugs                      True\n",
       "Emotional_Mental          False\n",
       "Criminal_Conduct           True\n",
       "Handling_PI               False\n",
       "Outside_Activities        False\n",
       "Use_InfoSys               False\n",
       "Deception                 False\n",
       "CAC                       False\n",
       "Unknown_Guideline         False\n",
       "Name: 0, dtype: bool"
      ]
     },
     "execution_count": 94,
     "metadata": {},
     "output_type": "execute_result"
    }
   ],
   "source": [
    "#print the first record in X to verify the previous step\n",
    "X.iloc[0]"
   ]
  },
  {
   "cell_type": "markdown",
   "metadata": {},
   "source": [
    "## 2. Set-up X: Fix Boolean Values"
   ]
  },
  {
   "cell_type": "markdown",
   "metadata": {},
   "source": [
    "We need to set up our X values in a way that a machine learning algorithm can understand it. In order to do this we need to change our true/false values into a numeric format. To do this, we need to change all true values to 1.0 and all false values to 0.0."
   ]
  },
  {
   "cell_type": "code",
   "execution_count": 95,
   "metadata": {},
   "outputs": [],
   "source": [
    "#replace all instances: True = 1.0, False = 0.0\n",
    "X.columns.tolist()\n",
    "for i in (X.columns.tolist()):\n",
    "    X[i] = X[i].replace(True,1)"
   ]
  },
  {
   "cell_type": "code",
   "execution_count": 96,
   "metadata": {},
   "outputs": [
    {
     "data": {
      "text/html": [
       "<div>\n",
       "<style scoped>\n",
       "    .dataframe tbody tr th:only-of-type {\n",
       "        vertical-align: middle;\n",
       "    }\n",
       "\n",
       "    .dataframe tbody tr th {\n",
       "        vertical-align: top;\n",
       "    }\n",
       "\n",
       "    .dataframe thead th {\n",
       "        text-align: right;\n",
       "    }\n",
       "</style>\n",
       "<table border=\"1\" class=\"dataframe\">\n",
       "  <thead>\n",
       "    <tr style=\"text-align: right;\">\n",
       "      <th></th>\n",
       "      <th>Smith</th>\n",
       "      <th>Female</th>\n",
       "      <th>Position_Eligibility</th>\n",
       "      <th>No_Falsification</th>\n",
       "      <th>Rebut_Falsification</th>\n",
       "      <th>Falsification(s)</th>\n",
       "      <th>Domestic_Violence</th>\n",
       "      <th>Previous_Clearance</th>\n",
       "      <th>Traumatic_Life_Event</th>\n",
       "      <th>Caused_Death</th>\n",
       "      <th>...</th>\n",
       "      <th>Alcohol</th>\n",
       "      <th>Drugs</th>\n",
       "      <th>Emotional_Mental</th>\n",
       "      <th>Criminal_Conduct</th>\n",
       "      <th>Handling_PI</th>\n",
       "      <th>Outside_Activities</th>\n",
       "      <th>Use_InfoSys</th>\n",
       "      <th>Deception</th>\n",
       "      <th>CAC</th>\n",
       "      <th>Unknown_Guideline</th>\n",
       "    </tr>\n",
       "  </thead>\n",
       "  <tbody>\n",
       "    <tr>\n",
       "      <th>0</th>\n",
       "      <td>0.0</td>\n",
       "      <td>0.0</td>\n",
       "      <td>0.0</td>\n",
       "      <td>0.0</td>\n",
       "      <td>0.0</td>\n",
       "      <td>1.0</td>\n",
       "      <td>0.0</td>\n",
       "      <td>0.0</td>\n",
       "      <td>0.0</td>\n",
       "      <td>0.0</td>\n",
       "      <td>...</td>\n",
       "      <td>0.0</td>\n",
       "      <td>1.0</td>\n",
       "      <td>0.0</td>\n",
       "      <td>1.0</td>\n",
       "      <td>0.0</td>\n",
       "      <td>0.0</td>\n",
       "      <td>0.0</td>\n",
       "      <td>0.0</td>\n",
       "      <td>0.0</td>\n",
       "      <td>0.0</td>\n",
       "    </tr>\n",
       "    <tr>\n",
       "      <th>1</th>\n",
       "      <td>0.0</td>\n",
       "      <td>1.0</td>\n",
       "      <td>0.0</td>\n",
       "      <td>1.0</td>\n",
       "      <td>0.0</td>\n",
       "      <td>0.0</td>\n",
       "      <td>0.0</td>\n",
       "      <td>0.0</td>\n",
       "      <td>0.0</td>\n",
       "      <td>0.0</td>\n",
       "      <td>...</td>\n",
       "      <td>0.0</td>\n",
       "      <td>1.0</td>\n",
       "      <td>0.0</td>\n",
       "      <td>1.0</td>\n",
       "      <td>0.0</td>\n",
       "      <td>0.0</td>\n",
       "      <td>0.0</td>\n",
       "      <td>0.0</td>\n",
       "      <td>0.0</td>\n",
       "      <td>0.0</td>\n",
       "    </tr>\n",
       "    <tr>\n",
       "      <th>2</th>\n",
       "      <td>0.0</td>\n",
       "      <td>0.0</td>\n",
       "      <td>0.0</td>\n",
       "      <td>1.0</td>\n",
       "      <td>0.0</td>\n",
       "      <td>0.0</td>\n",
       "      <td>0.0</td>\n",
       "      <td>0.0</td>\n",
       "      <td>0.0</td>\n",
       "      <td>0.0</td>\n",
       "      <td>...</td>\n",
       "      <td>0.0</td>\n",
       "      <td>1.0</td>\n",
       "      <td>0.0</td>\n",
       "      <td>0.0</td>\n",
       "      <td>0.0</td>\n",
       "      <td>0.0</td>\n",
       "      <td>0.0</td>\n",
       "      <td>0.0</td>\n",
       "      <td>0.0</td>\n",
       "      <td>0.0</td>\n",
       "    </tr>\n",
       "    <tr>\n",
       "      <th>3</th>\n",
       "      <td>0.0</td>\n",
       "      <td>0.0</td>\n",
       "      <td>0.0</td>\n",
       "      <td>1.0</td>\n",
       "      <td>0.0</td>\n",
       "      <td>0.0</td>\n",
       "      <td>0.0</td>\n",
       "      <td>0.0</td>\n",
       "      <td>0.0</td>\n",
       "      <td>0.0</td>\n",
       "      <td>...</td>\n",
       "      <td>0.0</td>\n",
       "      <td>1.0</td>\n",
       "      <td>0.0</td>\n",
       "      <td>0.0</td>\n",
       "      <td>0.0</td>\n",
       "      <td>0.0</td>\n",
       "      <td>0.0</td>\n",
       "      <td>0.0</td>\n",
       "      <td>0.0</td>\n",
       "      <td>0.0</td>\n",
       "    </tr>\n",
       "    <tr>\n",
       "      <th>4</th>\n",
       "      <td>0.0</td>\n",
       "      <td>0.0</td>\n",
       "      <td>0.0</td>\n",
       "      <td>0.0</td>\n",
       "      <td>0.0</td>\n",
       "      <td>1.0</td>\n",
       "      <td>0.0</td>\n",
       "      <td>0.0</td>\n",
       "      <td>0.0</td>\n",
       "      <td>0.0</td>\n",
       "      <td>...</td>\n",
       "      <td>1.0</td>\n",
       "      <td>1.0</td>\n",
       "      <td>0.0</td>\n",
       "      <td>1.0</td>\n",
       "      <td>0.0</td>\n",
       "      <td>0.0</td>\n",
       "      <td>0.0</td>\n",
       "      <td>0.0</td>\n",
       "      <td>0.0</td>\n",
       "      <td>0.0</td>\n",
       "    </tr>\n",
       "    <tr>\n",
       "      <th>5</th>\n",
       "      <td>0.0</td>\n",
       "      <td>0.0</td>\n",
       "      <td>0.0</td>\n",
       "      <td>1.0</td>\n",
       "      <td>0.0</td>\n",
       "      <td>0.0</td>\n",
       "      <td>0.0</td>\n",
       "      <td>0.0</td>\n",
       "      <td>0.0</td>\n",
       "      <td>0.0</td>\n",
       "      <td>...</td>\n",
       "      <td>1.0</td>\n",
       "      <td>0.0</td>\n",
       "      <td>0.0</td>\n",
       "      <td>0.0</td>\n",
       "      <td>0.0</td>\n",
       "      <td>0.0</td>\n",
       "      <td>0.0</td>\n",
       "      <td>0.0</td>\n",
       "      <td>0.0</td>\n",
       "      <td>0.0</td>\n",
       "    </tr>\n",
       "    <tr>\n",
       "      <th>6</th>\n",
       "      <td>0.0</td>\n",
       "      <td>0.0</td>\n",
       "      <td>0.0</td>\n",
       "      <td>0.0</td>\n",
       "      <td>0.0</td>\n",
       "      <td>1.0</td>\n",
       "      <td>0.0</td>\n",
       "      <td>0.0</td>\n",
       "      <td>0.0</td>\n",
       "      <td>0.0</td>\n",
       "      <td>...</td>\n",
       "      <td>0.0</td>\n",
       "      <td>1.0</td>\n",
       "      <td>0.0</td>\n",
       "      <td>1.0</td>\n",
       "      <td>0.0</td>\n",
       "      <td>0.0</td>\n",
       "      <td>0.0</td>\n",
       "      <td>0.0</td>\n",
       "      <td>0.0</td>\n",
       "      <td>0.0</td>\n",
       "    </tr>\n",
       "    <tr>\n",
       "      <th>7</th>\n",
       "      <td>0.0</td>\n",
       "      <td>0.0</td>\n",
       "      <td>0.0</td>\n",
       "      <td>1.0</td>\n",
       "      <td>0.0</td>\n",
       "      <td>0.0</td>\n",
       "      <td>0.0</td>\n",
       "      <td>0.0</td>\n",
       "      <td>0.0</td>\n",
       "      <td>0.0</td>\n",
       "      <td>...</td>\n",
       "      <td>1.0</td>\n",
       "      <td>0.0</td>\n",
       "      <td>0.0</td>\n",
       "      <td>0.0</td>\n",
       "      <td>0.0</td>\n",
       "      <td>0.0</td>\n",
       "      <td>0.0</td>\n",
       "      <td>0.0</td>\n",
       "      <td>0.0</td>\n",
       "      <td>0.0</td>\n",
       "    </tr>\n",
       "    <tr>\n",
       "      <th>8</th>\n",
       "      <td>0.0</td>\n",
       "      <td>0.0</td>\n",
       "      <td>0.0</td>\n",
       "      <td>1.0</td>\n",
       "      <td>0.0</td>\n",
       "      <td>0.0</td>\n",
       "      <td>0.0</td>\n",
       "      <td>0.0</td>\n",
       "      <td>0.0</td>\n",
       "      <td>0.0</td>\n",
       "      <td>...</td>\n",
       "      <td>0.0</td>\n",
       "      <td>0.0</td>\n",
       "      <td>0.0</td>\n",
       "      <td>1.0</td>\n",
       "      <td>0.0</td>\n",
       "      <td>0.0</td>\n",
       "      <td>0.0</td>\n",
       "      <td>0.0</td>\n",
       "      <td>0.0</td>\n",
       "      <td>0.0</td>\n",
       "    </tr>\n",
       "    <tr>\n",
       "      <th>9</th>\n",
       "      <td>0.0</td>\n",
       "      <td>0.0</td>\n",
       "      <td>0.0</td>\n",
       "      <td>0.0</td>\n",
       "      <td>0.0</td>\n",
       "      <td>1.0</td>\n",
       "      <td>0.0</td>\n",
       "      <td>1.0</td>\n",
       "      <td>0.0</td>\n",
       "      <td>0.0</td>\n",
       "      <td>...</td>\n",
       "      <td>0.0</td>\n",
       "      <td>1.0</td>\n",
       "      <td>0.0</td>\n",
       "      <td>1.0</td>\n",
       "      <td>0.0</td>\n",
       "      <td>0.0</td>\n",
       "      <td>0.0</td>\n",
       "      <td>0.0</td>\n",
       "      <td>0.0</td>\n",
       "      <td>0.0</td>\n",
       "    </tr>\n",
       "  </tbody>\n",
       "</table>\n",
       "<p>10 rows × 43 columns</p>\n",
       "</div>"
      ],
      "text/plain": [
       "   Smith  Female  Position_Eligibility  No_Falsification  Rebut_Falsification  \\\n",
       "0    0.0     0.0                   0.0               0.0                  0.0   \n",
       "1    0.0     1.0                   0.0               1.0                  0.0   \n",
       "2    0.0     0.0                   0.0               1.0                  0.0   \n",
       "3    0.0     0.0                   0.0               1.0                  0.0   \n",
       "4    0.0     0.0                   0.0               0.0                  0.0   \n",
       "5    0.0     0.0                   0.0               1.0                  0.0   \n",
       "6    0.0     0.0                   0.0               0.0                  0.0   \n",
       "7    0.0     0.0                   0.0               1.0                  0.0   \n",
       "8    0.0     0.0                   0.0               1.0                  0.0   \n",
       "9    0.0     0.0                   0.0               0.0                  0.0   \n",
       "\n",
       "   Falsification(s)  Domestic_Violence  Previous_Clearance  \\\n",
       "0               1.0                0.0                 0.0   \n",
       "1               0.0                0.0                 0.0   \n",
       "2               0.0                0.0                 0.0   \n",
       "3               0.0                0.0                 0.0   \n",
       "4               1.0                0.0                 0.0   \n",
       "5               0.0                0.0                 0.0   \n",
       "6               1.0                0.0                 0.0   \n",
       "7               0.0                0.0                 0.0   \n",
       "8               0.0                0.0                 0.0   \n",
       "9               1.0                0.0                 1.0   \n",
       "\n",
       "   Traumatic_Life_Event  Caused_Death  ...  Alcohol  Drugs  Emotional_Mental  \\\n",
       "0                   0.0           0.0  ...      0.0    1.0               0.0   \n",
       "1                   0.0           0.0  ...      0.0    1.0               0.0   \n",
       "2                   0.0           0.0  ...      0.0    1.0               0.0   \n",
       "3                   0.0           0.0  ...      0.0    1.0               0.0   \n",
       "4                   0.0           0.0  ...      1.0    1.0               0.0   \n",
       "5                   0.0           0.0  ...      1.0    0.0               0.0   \n",
       "6                   0.0           0.0  ...      0.0    1.0               0.0   \n",
       "7                   0.0           0.0  ...      1.0    0.0               0.0   \n",
       "8                   0.0           0.0  ...      0.0    0.0               0.0   \n",
       "9                   0.0           0.0  ...      0.0    1.0               0.0   \n",
       "\n",
       "   Criminal_Conduct  Handling_PI  Outside_Activities  Use_InfoSys  Deception  \\\n",
       "0               1.0          0.0                 0.0          0.0        0.0   \n",
       "1               1.0          0.0                 0.0          0.0        0.0   \n",
       "2               0.0          0.0                 0.0          0.0        0.0   \n",
       "3               0.0          0.0                 0.0          0.0        0.0   \n",
       "4               1.0          0.0                 0.0          0.0        0.0   \n",
       "5               0.0          0.0                 0.0          0.0        0.0   \n",
       "6               1.0          0.0                 0.0          0.0        0.0   \n",
       "7               0.0          0.0                 0.0          0.0        0.0   \n",
       "8               1.0          0.0                 0.0          0.0        0.0   \n",
       "9               1.0          0.0                 0.0          0.0        0.0   \n",
       "\n",
       "   CAC  Unknown_Guideline  \n",
       "0  0.0                0.0  \n",
       "1  0.0                0.0  \n",
       "2  0.0                0.0  \n",
       "3  0.0                0.0  \n",
       "4  0.0                0.0  \n",
       "5  0.0                0.0  \n",
       "6  0.0                0.0  \n",
       "7  0.0                0.0  \n",
       "8  0.0                0.0  \n",
       "9  0.0                0.0  \n",
       "\n",
       "[10 rows x 43 columns]"
      ]
     },
     "execution_count": 96,
     "metadata": {},
     "output_type": "execute_result"
    }
   ],
   "source": [
    "#print out top 10 records in X to ensure True was changed to 1.0 and False was changed to 0.0\n",
    "X.head(10)"
   ]
  },
  {
   "cell_type": "code",
   "execution_count": 97,
   "metadata": {},
   "outputs": [
    {
     "data": {
      "text/plain": [
       "Smith                     0.0\n",
       "Female                    0.0\n",
       "Position_Eligibility      0.0\n",
       "No_Falsification          0.0\n",
       "Rebut_Falsification       0.0\n",
       "Falsification(s)          1.0\n",
       "Domestic_Violence         0.0\n",
       "Previous_Clearance        0.0\n",
       "Traumatic_Life_Event      0.0\n",
       "Caused_Death              0.0\n",
       "Child_Sexual_Abuse        0.0\n",
       "Child_Pornography         0.0\n",
       "Prostitutes               0.0\n",
       "Fmr_Military_LawE         0.0\n",
       "Adverse_Affirmed          0.0\n",
       "Favorable_Affirmed        0.0\n",
       "Granted                   0.0\n",
       "Failed_to_Mitigate        0.0\n",
       "Success_to_Mitigate       0.0\n",
       "Adverse_Reversed          0.0\n",
       "Revoked_Fav_Reversed      0.0\n",
       "Adverse_Remanded          0.0\n",
       "Favorable_Remanded        0.0\n",
       "Remanded_wInstructions    0.0\n",
       "Recommend_Waiver          0.0\n",
       "Decision_Other            0.0\n",
       "Decision_Unknown          0.0\n",
       "Security_Violations       0.0\n",
       "Foreign_Influence         0.0\n",
       "Foreign_Preference        0.0\n",
       "Sexual_Behavior           0.0\n",
       "Personal_Conduct          1.0\n",
       "Financial                 0.0\n",
       "Alcohol                   0.0\n",
       "Drugs                     1.0\n",
       "Emotional_Mental          0.0\n",
       "Criminal_Conduct          1.0\n",
       "Handling_PI               0.0\n",
       "Outside_Activities        0.0\n",
       "Use_InfoSys               0.0\n",
       "Deception                 0.0\n",
       "CAC                       0.0\n",
       "Unknown_Guideline         0.0\n",
       "Name: 0, dtype: float64"
      ]
     },
     "execution_count": 97,
     "metadata": {},
     "output_type": "execute_result"
    }
   ],
   "source": [
    "#Alternatively, you could print the first record in X\n",
    "X.iloc[0]"
   ]
  },
  {
   "cell_type": "markdown",
   "metadata": {},
   "source": [
    "## 3. Set-up y: Fix Boolean Values"
   ]
  },
  {
   "cell_type": "markdown",
   "metadata": {},
   "source": [
    "We have our X values set up in a way that a machine learning algorithm can understand it, but now we need to fix our y values. In order to do this we need to change our true/false values into a numeric format. To do this, we need to change all true values to 1.0 and all false values to 0.0."
   ]
  },
  {
   "cell_type": "code",
   "execution_count": 98,
   "metadata": {},
   "outputs": [],
   "source": [
    "#replace: True = 1.0, False = 0.0\n",
    "y = y.replace(True,1)"
   ]
  },
  {
   "cell_type": "code",
   "execution_count": 99,
   "metadata": {},
   "outputs": [
    {
     "data": {
      "text/plain": [
       "1.0    10862\n",
       "0.0     9652\n",
       "Name: Denied, dtype: int64"
      ]
     },
     "execution_count": 99,
     "metadata": {},
     "output_type": "execute_result"
    }
   ],
   "source": [
    "#print out counts for all y records - ensure that our replace statement worked\n",
    "y.value_counts()"
   ]
  },
  {
   "cell_type": "code",
   "execution_count": 100,
   "metadata": {},
   "outputs": [
    {
     "data": {
      "text/plain": [
       "1.0"
      ]
     },
     "execution_count": 100,
     "metadata": {},
     "output_type": "execute_result"
    }
   ],
   "source": [
    "#Alternatively, you could print the first record in y\n",
    "y.iloc[0]"
   ]
  },
  {
   "cell_type": "markdown",
   "metadata": {},
   "source": [
    "### Final Data Check"
   ]
  },
  {
   "cell_type": "markdown",
   "metadata": {},
   "source": [
    "Now that our X and y are in the right format, we need to ensure one last time that the dimensions of each dataframe are correct. For our X, we see that there are 20,514 rows and 43 columns (different attributes in dataset). For our y, we see that there are 20,514 rows and no columns.\n",
    "\n",
    "Our data has passed the check and is ready to be used."
   ]
  },
  {
   "cell_type": "code",
   "execution_count": 101,
   "metadata": {},
   "outputs": [
    {
     "data": {
      "text/plain": [
       "(20514, 43)"
      ]
     },
     "execution_count": 101,
     "metadata": {},
     "output_type": "execute_result"
    }
   ],
   "source": [
    "X.shape"
   ]
  },
  {
   "cell_type": "code",
   "execution_count": 102,
   "metadata": {},
   "outputs": [
    {
     "data": {
      "text/plain": [
       "(20514,)"
      ]
     },
     "execution_count": 102,
     "metadata": {},
     "output_type": "execute_result"
    }
   ],
   "source": [
    "y.shape"
   ]
  },
  {
   "cell_type": "markdown",
   "metadata": {},
   "source": [
    "## 4. Machine Learning Step-by-Step"
   ]
  },
  {
   "cell_type": "markdown",
   "metadata": {},
   "source": [
    "#### A. Run train_test_split() on X & y"
   ]
  },
  {
   "cell_type": "markdown",
   "metadata": {},
   "source": [
    "This step is not needed for this notebook but it shows you how the train_test_split function works. Our X and y are randomly split up into training and testing groups. In this case, our test group will be comprised of 33% of the X data(test_size), and will be the same each time we run this line (random_state)."
   ]
  },
  {
   "cell_type": "code",
   "execution_count": 103,
   "metadata": {
    "scrolled": true
   },
   "outputs": [],
   "source": [
    "#break 33% of X and y into X_test and y_test, break other remaining 67% into X_train and y_train\n",
    "X_train, X_test, y_train, y_test = train_test_split(X, y, test_size=0.33, random_state=42)"
   ]
  },
  {
   "cell_type": "code",
   "execution_count": 104,
   "metadata": {},
   "outputs": [
    {
     "data": {
      "text/plain": [
       "(13744, 43)"
      ]
     },
     "execution_count": 104,
     "metadata": {},
     "output_type": "execute_result"
    }
   ],
   "source": [
    "#print size of training data (13,744/20,514 = .67)\n",
    "X_train.shape"
   ]
  },
  {
   "cell_type": "code",
   "execution_count": 105,
   "metadata": {},
   "outputs": [
    {
     "data": {
      "text/plain": [
       "(6770, 43)"
      ]
     },
     "execution_count": 105,
     "metadata": {},
     "output_type": "execute_result"
    }
   ],
   "source": [
    "#print size of test data (6,770/20,514 = .33)\n",
    "X_test.shape"
   ]
  },
  {
   "cell_type": "markdown",
   "metadata": {},
   "source": [
    "#### B. Run fit() on X_train & y_train"
   ]
  },
  {
   "cell_type": "markdown",
   "metadata": {},
   "source": [
    "The next step in our machine learning model is taking our training data and feeding it into an algorithm to build a model. This is essentially the step that teaches an algorithm that for each record X = y. To do this, there are a number of classification models. For this example we will focus on the LogisticRegression classifier."
   ]
  },
  {
   "cell_type": "code",
   "execution_count": 106,
   "metadata": {},
   "outputs": [],
   "source": [
    "#specify which classifier to use and set parameters\n",
    "clf = LogisticRegression(random_state=0, solver='liblinear')"
   ]
  },
  {
   "cell_type": "code",
   "execution_count": 107,
   "metadata": {},
   "outputs": [],
   "source": [
    "#send X and y into our classifier to build a model\n",
    "logreg_model = clf.fit(X, y)"
   ]
  },
  {
   "cell_type": "code",
   "execution_count": 108,
   "metadata": {},
   "outputs": [
    {
     "name": "stdout",
     "output_type": "stream",
     "text": [
      "LogisticRegression(C=1.0, class_weight=None, dual=False, fit_intercept=True,\n",
      "                   intercept_scaling=1, l1_ratio=None, max_iter=100,\n",
      "                   multi_class='warn', n_jobs=None, penalty='l2',\n",
      "                   random_state=0, solver='liblinear', tol=0.0001, verbose=0,\n",
      "                   warm_start=False)\n"
     ]
    }
   ],
   "source": [
    "print(logreg_model)"
   ]
  },
  {
   "cell_type": "markdown",
   "metadata": {},
   "source": [
    "#### C. Run predict() on X_test"
   ]
  },
  {
   "cell_type": "markdown",
   "metadata": {},
   "source": [
    "The next step in our model is to take the model we just made using the training data and feeding the test data into it. This will output an array of values that the algorithm has determined to be the denied status."
   ]
  },
  {
   "cell_type": "code",
   "execution_count": 109,
   "metadata": {},
   "outputs": [],
   "source": [
    "#send our test data into the model we just created\n",
    "y_pred = logreg_model.predict(X_test)"
   ]
  },
  {
   "cell_type": "code",
   "execution_count": 110,
   "metadata": {},
   "outputs": [
    {
     "name": "stdout",
     "output_type": "stream",
     "text": [
      "Here is the model's predictions: \n",
      "[0. 1. 0. ... 0. 0. 1.]\n"
     ]
    }
   ],
   "source": [
    "#print our results for the predictions\n",
    "print(\"Here is the model's predictions: \")\n",
    "print(y_pred)"
   ]
  },
  {
   "cell_type": "markdown",
   "metadata": {},
   "source": [
    "#### D. Verify Accuracy of Model"
   ]
  },
  {
   "cell_type": "markdown",
   "metadata": {},
   "source": [
    "Now that we have split our data into training and testing groups, created a model using a machine learning algorithm, and used the model to predict outcomes for our test data, it is time to verify how well our model did compared to the actual outcomes. To do this, there are a number of accuracy metrics. For this example we will focus on the accuracy score."
   ]
  },
  {
   "cell_type": "code",
   "execution_count": 111,
   "metadata": {},
   "outputs": [],
   "source": [
    "#import our score functions\n",
    "from sklearn.metrics import accuracy_score"
   ]
  },
  {
   "cell_type": "code",
   "execution_count": 112,
   "metadata": {},
   "outputs": [
    {
     "name": "stdout",
     "output_type": "stream",
     "text": [
      "Accuracy score for LogisticRegression classifier:   0.9957163958641063\n"
     ]
    }
   ],
   "source": [
    "#compare y_test values with the predicted y values\n",
    "score = accuracy_score(y_test, y_pred).mean()\n",
    "print(\"Accuracy score for LogisticRegression classifier:  \", score)"
   ]
  },
  {
   "cell_type": "markdown",
   "metadata": {},
   "source": [
    "***Here we can see that our LogisticRegression model was correct 99.57% of the time when predicting the denied status.***"
   ]
  },
  {
   "cell_type": "markdown",
   "metadata": {},
   "source": [
    "## 5. Test for Best Classifier to Use"
   ]
  },
  {
   "cell_type": "markdown",
   "metadata": {},
   "source": [
    "Now that we understand how machine learning is done, we can determine which model is the best choice for our data. In this example we will use  different classifiers and evaluate each against 5 accuracy metrics.\n",
    "\n",
    "Note: the cross_val_score() function handles test_train_split(X,y,test_size=33,random_state-42), fit(X_train,y_train), predict(X_test), and also any of the accuracy score metrics. This function is essentially and all-in-one function."
   ]
  },
  {
   "cell_type": "code",
   "execution_count": 113,
   "metadata": {},
   "outputs": [
    {
     "name": "stdout",
     "output_type": "stream",
     "text": [
      "-----------------------------------------------------------------------------------------------------------\n",
      "Classifier:  RandomForestClassifier(bootstrap=True, class_weight=None, criterion='gini',\n",
      "                       max_depth=None, max_features='auto', max_leaf_nodes=None,\n",
      "                       min_impurity_decrease=0.0, min_impurity_split=None,\n",
      "                       min_samples_leaf=1, min_samples_split=2,\n",
      "                       min_weight_fraction_leaf=0.0, n_estimators=5,\n",
      "                       n_jobs=None, oob_score=False, random_state=None,\n",
      "                       verbose=0, warm_start=False)\n",
      "\n",
      "Scoring Metrics: \n",
      "\t* roc_auc score:  0.9970754501239952\n",
      "\t* f1 score:  0.9908797234769704\n",
      "\t* accuracy score:  0.9905914272360826\n",
      "\t* precision score:  0.992444556801408\n",
      "\t* recall score:  0.9912538786686828\n",
      "-----------------------------------------------------------------------------------------------------------\n",
      "Classifier:  GaussianNB(priors=None, var_smoothing=1e-09)\n",
      "\n",
      "Scoring Metrics: \n",
      "\t* roc_auc score:  0.8636564070817899\n",
      "\t* f1 score:  0.8907724906494924\n",
      "\t* accuracy score:  0.8704304545373539\n",
      "\t* precision score:  0.8046325888620532\n",
      "\t* recall score:  0.9976065543588328\n",
      "-----------------------------------------------------------------------------------------------------------\n",
      "Classifier:  LogisticRegression(C=1.0, class_weight=None, dual=False, fit_intercept=True,\n",
      "                   intercept_scaling=1, l1_ratio=None, max_iter=100,\n",
      "                   multi_class='warn', n_jobs=None, penalty='l2',\n",
      "                   random_state=None, solver='liblinear', tol=0.0001, verbose=0,\n",
      "                   warm_start=False)\n",
      "\n",
      "Scoring Metrics: \n",
      "\t* roc_auc score:  0.9984125772997219\n",
      "\t* f1 score:  0.9926387733319827\n",
      "\t* accuracy score:  0.992200056251996\n",
      "\t* precision score:  0.993771958097328\n",
      "\t* recall score:  0.9915300454734327\n",
      "-----------------------------------------------------------------------------------------------------------\n",
      "Classifier:  DecisionTreeClassifier(class_weight=None, criterion='gini', max_depth=None,\n",
      "                       max_features=None, max_leaf_nodes=None,\n",
      "                       min_impurity_decrease=0.0, min_impurity_split=None,\n",
      "                       min_samples_leaf=1, min_samples_split=2,\n",
      "                       min_weight_fraction_leaf=0.0, presort=False,\n",
      "                       random_state=None, splitter='best')\n",
      "\n",
      "Scoring Metrics: \n",
      "\t* roc_auc score:  0.9969934531448285\n",
      "\t* f1 score:  0.9941708934444131\n",
      "\t* accuracy score:  0.9937601875843742\n",
      "\t* precision score:  0.9986986257675778\n",
      "\t* recall score:  0.9895963183862501\n",
      "-----------------------------------------------------------------------------------------------------------\n",
      "Classifier:  KNeighborsClassifier(algorithm='auto', leaf_size=30, metric='minkowski',\n",
      "                     metric_params=None, n_jobs=None, n_neighbors=6, p=2,\n",
      "                     weights='uniform')\n",
      "\n",
      "Scoring Metrics: \n",
      "\t* roc_auc score:  0.9864834515615154\n",
      "\t* f1 score:  0.975175908918582\n",
      "\t* accuracy score:  0.9732369828178317\n",
      "\t* precision score:  0.9607542544782968\n",
      "\t* recall score:  0.990149008011889\n"
     ]
    }
   ],
   "source": [
    "classifiers = [RandomForestClassifier(n_estimators=5), GaussianNB(), LogisticRegression(solver='liblinear'), DecisionTreeClassifier(criterion='gini'), KNeighborsClassifier(n_neighbors=6)]\n",
    "clf_names = ['RandomForest','GausianNB','LogisticRegression','DecisionTreeClassRegressor', 'KNeighbors']\n",
    "metric_names = ['roc_auc','f1','accuracy','precision','recall']\n",
    "\n",
    "scv = StratifiedKFold(n_splits=3)\n",
    "\n",
    "scores_df = pd.DataFrame(index=metric_names,columns=clf_names)\n",
    "clf_scores = []\n",
    "for clf, name in zip(classifiers, clf_names):\n",
    "    print('-----------------------------------------------------------------------------------------------------------')\n",
    "    print('Classifier: ',clf)\n",
    "    print('')\n",
    "    print(\"Scoring Metrics: \")\n",
    "    for metric in metric_names:\n",
    "        score = cross_val_score(clf,X,y,scoring=metric, cv=scv).mean()\n",
    "        clf_scores.append(score)\n",
    "        print('\\t*',metric,'score: ', score)\n",
    "    scores_df[name] = clf_scores\n",
    "    clf_scores = []"
   ]
  },
  {
   "cell_type": "markdown",
   "metadata": {},
   "source": [
    "## Final Results"
   ]
  },
  {
   "cell_type": "markdown",
   "metadata": {},
   "source": [
    "For boolean classification, the top performing machine learning algorithm is RandomForrestClassifier followed closely behind by the DecisionTreeClassifier. Both of these classifiers work by building out a tree via simple if then else rules - the deeper the tree, the more complex the model."
   ]
  },
  {
   "cell_type": "code",
   "execution_count": null,
   "metadata": {},
   "outputs": [],
   "source": []
  }
 ],
 "metadata": {
  "kernelspec": {
   "display_name": "Python 3",
   "language": "python",
   "name": "python3"
  },
  "language_info": {
   "codemirror_mode": {
    "name": "ipython",
    "version": 3
   },
   "file_extension": ".py",
   "mimetype": "text/x-python",
   "name": "python",
   "nbconvert_exporter": "python",
   "pygments_lexer": "ipython3",
   "version": "3.7.3"
  }
 },
 "nbformat": 4,
 "nbformat_minor": 2
}
