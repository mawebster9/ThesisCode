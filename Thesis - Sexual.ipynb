{
 "cells": [
  {
   "cell_type": "markdown",
   "metadata": {},
   "source": [
    "# Sexual Behavior Notebook"
   ]
  },
  {
   "cell_type": "markdown",
   "metadata": {},
   "source": [
    "### Imports"
   ]
  },
  {
   "cell_type": "code",
   "execution_count": 9,
   "metadata": {},
   "outputs": [],
   "source": [
    "# Michaela Webster's Thesis Project #\n",
    "\"\"\" This project aims to try to predict the outcome of security clearance appeals cases \"\"\"\n",
    "\n",
    "#use this link for scikit learn help: https://www.ritchieng.com/pandas-scikit-learn/\n",
    "\n",
    "# To support both python 2 and python 3\n",
    "from __future__ import division, print_function, unicode_literals\n",
    "\n",
    "# imports\n",
    "import os\n",
    "import pandas as pd\n",
    "import warnings\n",
    "import matplotlib.pyplot as plt\n",
    "import numpy as np\n",
    "import subprocess\n",
    "import shlex\n",
    "import sklearn\n",
    "from sklearn import metrics as skmet"
   ]
  },
  {
   "cell_type": "markdown",
   "metadata": {},
   "source": [
    "### Getting the Training Data"
   ]
  },
  {
   "cell_type": "code",
   "execution_count": 19,
   "metadata": {},
   "outputs": [
    {
     "name": "stdout",
     "output_type": "stream",
     "text": [
      "Sexual_Behavior  Denied\n",
      "False            False      9460\n",
      "                 True      10571\n",
      "True             False       192\n",
      "                 True        291\n",
      "dtype: int64\n"
     ]
    }
   ],
   "source": [
    "#open sexual_query.csv as pandas dataframe - encoding must be latin-1\n",
    "path_to_file = \"C:\\\\Users\\\\maweb\\\\Documents\\\\ThesisCode\\\\sexual_query.csv\"\n",
    "data = pd.read_csv(path_to_file, encoding='latin-1')\n",
    "\n",
    "df = data.groupby(['Sexual_Behavior', 'Denied']).size()\n",
    "#print bar graph of sexual_behavior yes/no vs denied yes/no\n",
    "print (df)"
   ]
  },
  {
   "cell_type": "code",
   "execution_count": 20,
   "metadata": {},
   "outputs": [
    {
     "data": {
      "text/plain": [
       "<matplotlib.axes._subplots.AxesSubplot at 0x13e3f4f0>"
      ]
     },
     "execution_count": 20,
     "metadata": {},
     "output_type": "execute_result"
    },
    {
     "data": {
      "image/png": "[encoded data removed]",
      "text/plain": [
       "<Figure size 432x288 with 1 Axes>"
      ]
     },
     "metadata": {
      "needs_background": "light"
     },
     "output_type": "display_data"
    }
   ],
   "source": [
    "#print bar graph to show alcohol/denied\n",
    "#cannot do this through cmd\n",
    "df.plot.bar()"
   ]
  },
  {
   "cell_type": "markdown",
   "metadata": {},
   "source": [
    "### Prime Data for Machine Learning"
   ]
  },
  {
   "cell_type": "code",
   "execution_count": 21,
   "metadata": {},
   "outputs": [],
   "source": [
    "# set the featured columns for X (sexual behavior)\n",
    "feature_cols = ['Domestic_Violence', 'Traumatic_Life_Event', 'Child_Sexual_Abuse', 'Child_Pornography', 'Prostitutes', 'Sexual_Behavior']\n",
    "# you want all rows, and the feature_cols' columns\n",
    "X = data.loc[:, feature_cols]\n",
    "# now we want to create our response vector\n",
    "y = data.Denied"
   ]
  },
  {
   "cell_type": "markdown",
   "metadata": {},
   "source": [
    "### Feed the Data and Outcome into LogisticRegression Model"
   ]
  },
  {
   "cell_type": "code",
   "execution_count": 22,
   "metadata": {},
   "outputs": [
    {
     "data": {
      "text/plain": [
       "LogisticRegression(C=1.0, class_weight=None, dual=False, fit_intercept=True,\n",
       "          intercept_scaling=1, max_iter=110, multi_class='warn',\n",
       "          n_jobs=None, penalty='l1', random_state=None, solver='liblinear',\n",
       "          tol=0.0001, verbose=0, warm_start=False)"
      ]
     },
     "execution_count": 22,
     "metadata": {},
     "output_type": "execute_result"
    }
   ],
   "source": [
    "# START DOING MACHINE LEARNING STUFF\n",
    "# 1. import\n",
    "from sklearn.linear_model import LogisticRegression\n",
    "# 2. instantiate model\n",
    "logreg = LogisticRegression(penalty='l1',dual=False,max_iter=110, solver='liblinear')\n",
    "# 3. fit \n",
    "logreg.fit(X, y)"
   ]
  },
  {
   "cell_type": "code",
   "execution_count": 23,
   "metadata": {},
   "outputs": [],
   "source": [
    "# FOR TEST DATA\n",
    "#open sexual_test.csv as pandas dataframe\n",
    "path_to_file = \"C:\\\\Users\\\\maweb\\\\Documents\\\\ThesisCode\\\\sexual_test.csv\"\n",
    "data2 = pd.read_csv(path_to_file, encoding='latin-1')\n",
    "X_new = data.loc[:, feature_cols]\n",
    "new_pred_class = logreg.predict(X_new)"
   ]
  },
  {
   "cell_type": "code",
   "execution_count": 24,
   "metadata": {},
   "outputs": [
    {
     "data": {
      "text/plain": [
       "array([ True,  True,  True, ...,  True,  True,  True])"
      ]
     },
     "execution_count": 24,
     "metadata": {},
     "output_type": "execute_result"
    }
   ],
   "source": [
    "new_pred_class"
   ]
  },
  {
   "cell_type": "markdown",
   "metadata": {},
   "source": [
    "### Find Model Accuracy"
   ]
  },
  {
   "cell_type": "code",
   "execution_count": 25,
   "metadata": {},
   "outputs": [],
   "source": [
    "sexual_accuracy = skmet.accuracy_score(new_pred_class, y)"
   ]
  },
  {
   "cell_type": "code",
   "execution_count": 26,
   "metadata": {},
   "outputs": [
    {
     "name": "stdout",
     "output_type": "stream",
     "text": [
      "Accuracy Score for Sexual Behavior model:  0.5383640440674661\n"
     ]
    }
   ],
   "source": [
    "print('Accuracy Score for Sexual Behavior model: ',sexual_accuracy)"
   ]
  },
  {
   "cell_type": "code",
   "execution_count": 27,
   "metadata": {},
   "outputs": [
    {
     "name": "stdout",
     "output_type": "stream",
     "text": [
      "F1 score for Sexual Behavior Model:  0.6945161290322581\n"
     ]
    }
   ],
   "source": [
    "sexual_f1 = skmet.f1_score(y,new_pred_class)\n",
    "print('F1 score for Sexual Behavior Model: ',sexual_f1)"
   ]
  },
  {
   "cell_type": "markdown",
   "metadata": {},
   "source": [
    "### Future Work"
   ]
  },
  {
   "cell_type": "markdown",
   "metadata": {},
   "source": [
    "1. look into more data points to add"
   ]
  }
 ],
 "metadata": {
  "kernelspec": {
   "display_name": "Python 3",
   "language": "python",
   "name": "python3"
  },
  "language_info": {
   "codemirror_mode": {
    "name": "ipython",
    "version": 3
   },
   "file_extension": ".py",
   "mimetype": "text/x-python",
   "name": "python",
   "nbconvert_exporter": "python",
   "pygments_lexer": "ipython3",
   "version": "3.7.0"
  }
 },
 "nbformat": 4,
 "nbformat_minor": 2
}
